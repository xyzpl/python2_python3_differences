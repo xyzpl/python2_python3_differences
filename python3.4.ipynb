{
 "cells": [
  {
   "cell_type": "markdown",
   "metadata": {},
   "source": [
    "## No new syntax added to Python 3.4"
   ]
  },
  {
   "cell_type": "markdown",
   "metadata": {},
   "source": [
    "..."
   ]
  },
  {
   "cell_type": "markdown",
   "metadata": {},
   "source": [
    "## asyncio"
   ]
  },
  {
   "cell_type": "code",
   "execution_count": 5,
   "metadata": {},
   "outputs": [],
   "source": [
    "import asyncio\n",
    "import random"
   ]
  },
  {
   "cell_type": "code",
   "execution_count": 12,
   "metadata": {},
   "outputs": [
    {
     "name": "stdout",
     "output_type": "stream",
     "text": [
      "start request: first\n",
      "start request: second\n",
      "request completed: first\n",
      "request completed: second\n",
      "('result of first is: 6', 'result of second is: 7')\n"
     ]
    }
   ],
   "source": [
    "async def some_external_api_request(name):\n",
    "    print(\"start request: {}\".format(name))\n",
    "    await asyncio.sleep(1)  # do the job\n",
    "    print(\"request completed: {}\".format(name))\n",
    "    return \"result of {} is: {}\".format(name, random.randint(1, 10))\n",
    "\n",
    "async def call_external_apis():\n",
    "    response1 = asyncio.create_task(some_external_api_request(\"first\"))\n",
    "    response2 = asyncio.create_task(some_external_api_request(\"second\"))\n",
    "    return await response1, await response2\n",
    "\n",
    "responses = await call_external_apis()\n",
    "print(responses)"
   ]
  },
  {
   "cell_type": "markdown",
   "metadata": {},
   "source": [
    "## enum"
   ]
  },
  {
   "cell_type": "code",
   "execution_count": 5,
   "metadata": {},
   "outputs": [
    {
     "data": {
      "text/plain": [
       "[<Colors.RED: 1>, <Colors.GREEN: 2>]"
      ]
     },
     "execution_count": 5,
     "metadata": {},
     "output_type": "execute_result"
    }
   ],
   "source": [
    "from enum import Enum\n",
    "class Colors(Enum):\n",
    "    RED = 1\n",
    "    GREEN = 2\n",
    "    \n",
    "list(Colors)"
   ]
  },
  {
   "cell_type": "code",
   "execution_count": 8,
   "metadata": {},
   "outputs": [
    {
     "data": {
      "text/plain": [
       "[(1, 'Colors.RED'), (2, 'Colors.GREEN')]"
      ]
     },
     "execution_count": 8,
     "metadata": {},
     "output_type": "execute_result"
    }
   ],
   "source": [
    "# django choices\n",
    "[(color.value, str(color)) for color in Colors]"
   ]
  }
 ],
 "metadata": {
  "kernelspec": {
   "display_name": "Python 3",
   "language": "python",
   "name": "python3"
  },
  "language_info": {
   "codemirror_mode": {
    "name": "ipython",
    "version": 3
   },
   "file_extension": ".py",
   "mimetype": "text/x-python",
   "name": "python",
   "nbconvert_exporter": "python",
   "pygments_lexer": "ipython3",
   "version": "3.8.5"
  }
 },
 "nbformat": 4,
 "nbformat_minor": 4
}
