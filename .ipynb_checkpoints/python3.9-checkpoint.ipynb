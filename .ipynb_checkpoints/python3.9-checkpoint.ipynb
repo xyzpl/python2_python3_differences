{
 "cells": [
  {
   "cell_type": "markdown",
   "metadata": {},
   "source": [
    "# Syntax for merge and update dictionaries\n",
    "\n",
    "## Syntax\n",
    "\n",
    "`dict1 | dict2` and `dict1 |= dict2`\n",
    "\n",
    "## TLDR\n",
    "\n",
    "From PEP:\n",
    "\n",
    "> Dict union will return a new dict consisting of the left operand merged with the right operand, each of which must be a dict (or an instance of a dict subclass). If a key appears in both operands, the last-seen value (i.e. that from the right-hand operand) wins.\n",
    "\n",
    "\n",
    "There was a discussion first to use `+` instead of `|`, but in the end argument that for dicts it's hard to imagine what it means if dictionaries have overlapping keys. Union (`|`) operator was chosen based on that discussion: https://mail.python.org/archives/list/python-ideas@python.org/message/PUFIAGVXE6L3DOW3EAEO6VBXAYBHFNTL/"
   ]
  },
  {
   "cell_type": "markdown",
   "metadata": {},
   "source": [
    "## Examples"
   ]
  },
  {
   "cell_type": "code",
   "execution_count": 1,
   "metadata": {},
   "outputs": [],
   "source": [
    "# merge dictionaries\n",
    "\n",
    "dict1 = {\"leave\": \"initial\", \"replace\": \"initial\"}\n",
    "dict2 = {\"replace\": \"replaced\", \"added\": \"initial\"}\n",
    "\n",
    "expected_after_merge = {\"leave\": \"initial\", \"replace\": \"replaced\", \"added\": \"initial\"}\n",
    "\n",
    "# old way syntax can be ugly\n",
    "assert {**dict1, **dict2} == expected_after_merge\n",
    "assert dict(dict1, **dict2) == expected_after_merge\n",
    "\n",
    "# new way\n",
    "assert dict1 | dict2 == expected_after_merge"
   ]
  },
  {
   "cell_type": "code",
   "execution_count": 2,
   "metadata": {},
   "outputs": [],
   "source": [
    "# update dictionary\n",
    "\n",
    "dict1 = {}\n",
    "dict2 = {\"replace\": \"replaced\", \"added\": \"initial\"}\n",
    "\n",
    "expected_after_update = {\"leave\": \"initial\", \"replace\": \"replaced\", \"added\": \"initial\"}\n",
    "\n",
    "# old way:\n",
    "dict1 = {\"leave\": \"initial\", \"replace\": \"initial\"}\n",
    "dict1.update(dict2)\n",
    "assert dict1 == expected_after_update\n",
    "\n",
    "# new way\n",
    "dict1 = {\"leave\": \"initial\", \"replace\": \"initial\"}\n",
    "dict1 |= dict2\n",
    "assert dict1 == expected_after_update"
   ]
  },
  {
   "cell_type": "markdown",
   "metadata": {},
   "source": [
    "# Typing generics syntax added to all standard collections\n",
    "\n",
    "Generics syntax allows to define types of elements kept in a parent collection.\n",
    "\n",
    "From PEP:\n",
    "\n",
    "> Generic (n.) -- a type that can be parameterized, typically a container. Also known as a parametric type or a generic type. For example: dict."
   ]
  },
  {
   "cell_type": "code",
   "execution_count": 3,
   "metadata": {},
   "outputs": [],
   "source": [
    "# old way\n",
    "\n",
    "from typing import Dict\n",
    "\n",
    "d: Dict[int, int] = {}\n",
    "    \n",
    "# you can't do: dict[int, int] due to \"TypeError: 'type' object is not subscriptable\"\n",
    "\n",
    "# new way\n",
    "d: dict[int, int] = {}"
   ]
  },
  {
   "cell_type": "markdown",
   "metadata": {},
   "source": [
    "# String remove prefix & suffix"
   ]
  },
  {
   "cell_type": "code",
   "execution_count": 4,
   "metadata": {},
   "outputs": [
    {
     "data": {
      "text/plain": [
       "'PYTHON'"
      ]
     },
     "execution_count": 4,
     "metadata": {},
     "output_type": "execute_result"
    }
   ],
   "source": [
    "\"prefixPYTHONsuffix\".removeprefix(\"prefix\").removesuffix(\"suffix\")"
   ]
  },
  {
   "cell_type": "code",
   "execution_count": 5,
   "metadata": {},
   "outputs": [
    {
     "data": {
      "text/plain": [
       "'prefixPYTHONsuffix'"
      ]
     },
     "execution_count": 5,
     "metadata": {},
     "output_type": "execute_result"
    }
   ],
   "source": [
    "\"prefixPYTHONsuffix\".removeprefix(\"ups\")"
   ]
  },
  {
   "cell_type": "code",
   "execution_count": 6,
   "metadata": {},
   "outputs": [
    {
     "data": {
      "text/plain": [
       "'prefixPYTHONsuffix'"
      ]
     },
     "execution_count": 6,
     "metadata": {},
     "output_type": "execute_result"
    }
   ],
   "source": [
    "\"prefixPYTHONsuffix\".removesuffix(\"ups\")"
   ]
  },
  {
   "cell_type": "code",
   "execution_count": 7,
   "metadata": {},
   "outputs": [],
   "source": [
    "# side note refreshment: string object id depends on it's content\n",
    "\n",
    "some_str = \"string\"\n",
    "without_prefixo = some_str.removeprefix(\"wontdo\")\n",
    "assert id(some_str) == id(without_prefixo)\n",
    "assert id(\"string\") == id(\"string\")"
   ]
  },
  {
   "cell_type": "markdown",
   "metadata": {},
   "source": [
    "## Implementation details\n",
    "\n",
    "```python\n",
    "def removeprefix(self: str, prefix: str, /) -> str:\n",
    "    if self.startswith(prefix):\n",
    "        return self[len(prefix):]\n",
    "    else:\n",
    "        return self[:]\n",
    "\n",
    "def removesuffix(self: str, suffix: str, /) -> str:\n",
    "    # suffix='' should not call self[:-0].\n",
    "    if suffix and self.endswith(suffix):\n",
    "        return self[:-len(suffix)]\n",
    "    else:\n",
    "        return self[:]\n",
    "```"
   ]
  },
  {
   "cell_type": "markdown",
   "metadata": {},
   "source": [
    "# Flexible variables & function annotations\n",
    "\n",
    "Added `Annotated` which allows to add extra metadata for your type definition.\n",
    "\n",
    "From PEP:\n",
    "\n",
    "> This PEP adds an Annotated type to the typing module to decorate existing types with context-specific metadata. Specifically, a type T can be annotated with metadata x via the typehint Annotated[T, x]. This metadata can be used for either static analysis or at runtime. If a library (or tool) encounters a typehint Annotated[T, x] and has no special logic for metadata x, it should ignore it and simply treat the type as T. Unlike the no_type_check functionality that currently exists in the typing module which completely disables typechecking annotations on a function or a class, the Annotated type allows for both static typechecking of T (e.g., via mypy [mypy] or Pyre [pyre], which can safely ignore x) together with runtime access to x within a specific application. The introduction of this type would address a diverse set of use cases of interest to the broader Python community.\n",
    "\n",
    "## Not so clever example"
   ]
  },
  {
   "cell_type": "code",
   "execution_count": 8,
   "metadata": {},
   "outputs": [
    {
     "name": "stdout",
     "output_type": "stream",
     "text": [
      "{'d': dict[int, int], 'some_variable': 'OnlyOneIntWithMetadata'}\n"
     ]
    }
   ],
   "source": [
    "from __future__ import annotations\n",
    "\n",
    "from typing import Annotated\n",
    "\n",
    "OnlyOneIntWithMetadata = Annotated[int, {\"expected_value\": 1}]\n",
    "\n",
    "some_variable: OnlyOneIntWithMetadata\n",
    "some_variable = \"str\"\n",
    "\n",
    "\n",
    "def run_something_not_very_useful(annotations):\n",
    "    for k, v in annotations.items():\n",
    "        if v == \"OnlyOneIntWithMetadata\":\n",
    "            var_value = globals()[v]\n",
    "            if var_value != OnlyOneIntWithMetadata.__metadata__[0][\"expected_value\"]:\n",
    "                return f\"error {k} has no value of 1 :scream:\"\n",
    "\n",
    "\n",
    "result = run_something_not_very_useful(__annotations__)\n",
    "assert result == \"error some_variable has no value of 1 :scream:\", result\n",
    "\n",
    "print(__annotations__)"
   ]
  },
  {
   "cell_type": "markdown",
   "metadata": {},
   "source": [
    "## Runtime mypy run for some piece of code"
   ]
  },
  {
   "cell_type": "code",
   "execution_count": 9,
   "metadata": {},
   "outputs": [
    {
     "name": "stdout",
     "output_type": "stream",
     "text": [
      "test_mypy.py:6: error: Incompatible types in assignment (expression has type \"str\", variable has type \"int\")\n",
      "test_mypy.py:8: error: Name '__annotations__' is not defined\n",
      "Found 2 errors in 1 file (checked 1 source file)\n",
      "\n",
      "\n",
      "1\n"
     ]
    }
   ],
   "source": [
    "import os\n",
    "\n",
    "import mypy.api\n",
    "\n",
    "\n",
    "script_content = \"\"\"from typing import Annotated, get_type_hints\n",
    "\n",
    "IntWithMetadata = Annotated[int, {\"some_metadata\": \"...\"}]\n",
    "\n",
    "some_variable: IntWithMetadata\n",
    "some_variable = \"str\"\n",
    "\n",
    "print(__annotations__)\"\"\"\n",
    "\n",
    "\n",
    "with open(\"test_mypy.py\", \"w\") as f:\n",
    "    f.write(script_content)\n",
    "\n",
    "\n",
    "for error in mypy.api.run([\"test_mypy.py\"]):\n",
    "    print(error)\n",
    "\n",
    "    \n",
    "os.remove(\"test_mypy.py\")"
   ]
  }
 ],
 "metadata": {
  "kernelspec": {
   "display_name": "Python 3",
   "language": "python",
   "name": "python3"
  },
  "language_info": {
   "codemirror_mode": {
    "name": "ipython",
    "version": 3
   },
   "file_extension": ".py",
   "mimetype": "text/x-python",
   "name": "python",
   "nbconvert_exporter": "python",
   "pygments_lexer": "ipython3",
   "version": "3.9.1"
  }
 },
 "nbformat": 4,
 "nbformat_minor": 4
}
