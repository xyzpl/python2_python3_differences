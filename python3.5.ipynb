{
 "cells": [
  {
   "cell_type": "markdown",
   "metadata": {},
   "source": [
    "## more asyncio"
   ]
  },
  {
   "cell_type": "code",
   "execution_count": 12,
   "metadata": {},
   "outputs": [
    {
     "name": "stdout",
     "output_type": "stream",
     "text": [
      "coro 1: waiting for lock\n",
      "coro 1: holding the lock\n",
      "coro 2: waiting for lock\n",
      "coro 2: releasing the lock\n",
      "coro 1: releasing the lock\n",
      "coro 2: holding the lock\n",
      "coro 2: releasing the lock\n"
     ]
    }
   ],
   "source": [
    "import asyncio\n",
    "\n",
    "async def coro(name, lock):\n",
    "    print('coro {}: waiting for lock'.format(name))\n",
    "    async with lock:\n",
    "        print('coro {}: holding the lock'.format(name))\n",
    "        await asyncio.sleep(1)\n",
    "        print('coro {}: releasing the lock'.format(name))\n",
    "\n",
    "loop = asyncio.get_running_loop()\n",
    "lock = asyncio.Lock()\n",
    "coros = asyncio.gather(coro(1, lock), coro(2, lock))"
   ]
  },
  {
   "cell_type": "markdown",
   "metadata": {},
   "source": [
    "## added % interpolation for bytes"
   ]
  },
  {
   "cell_type": "code",
   "execution_count": 14,
   "metadata": {},
   "outputs": [
    {
     "data": {
      "text/plain": [
       "b'Hello World!'"
      ]
     },
     "execution_count": 14,
     "metadata": {},
     "output_type": "execute_result"
    }
   ],
   "source": [
    "b\"Hello %b!\" % b\"World\""
   ]
  },
  {
   "cell_type": "markdown",
   "metadata": {},
   "source": [
    "## type hints"
   ]
  },
  {
   "cell_type": "code",
   "execution_count": 19,
   "metadata": {},
   "outputs": [],
   "source": [
    "# runtime checks\n",
    "def greeting(name: str) -> str:\n",
    "    return 'Hello ' + name"
   ]
  },
  {
   "cell_type": "markdown",
   "metadata": {},
   "source": [
    "## os.scandir"
   ]
  },
  {
   "cell_type": "code",
   "execution_count": 1,
   "metadata": {},
   "outputs": [
    {
     "data": {
      "text/plain": [
       "[('python3.5.ipynb', True),\n",
       " ('python3.7.ipynb', True),\n",
       " ('python3.3.ipynb', True),\n",
       " ('python3.1.ipynb', True),\n",
       " ('python3.6.ipynb', True),\n",
       " ('python3.4.ipynb', True),\n",
       " ('python3.0.ipynb', True),\n",
       " ('python3.2.ipynb', True),\n",
       " ('README.md', True),\n",
       " ('python3.8.ipynb', True),\n",
       " ('.ipynb_checkpoints', False),\n",
       " ('.git', False),\n",
       " ('.idea', False)]"
      ]
     },
     "execution_count": 1,
     "metadata": {},
     "output_type": "execute_result"
    }
   ],
   "source": [
    "import os\n",
    "list([(entry.name, entry.is_file()) for entry in os.scandir(\"/Users/lui/dev/xyz/python2_python3_differences\")])"
   ]
  },
  {
   "cell_type": "code",
   "execution_count": null,
   "metadata": {},
   "outputs": [],
   "source": []
  }
 ],
 "metadata": {
  "kernelspec": {
   "display_name": "Python 3",
   "language": "python",
   "name": "python3"
  },
  "language_info": {
   "codemirror_mode": {
    "name": "ipython",
    "version": 3
   },
   "file_extension": ".py",
   "mimetype": "text/x-python",
   "name": "python",
   "nbconvert_exporter": "python",
   "pygments_lexer": "ipython3",
   "version": "3.8.5"
  }
 },
 "nbformat": 4,
 "nbformat_minor": 4
}
