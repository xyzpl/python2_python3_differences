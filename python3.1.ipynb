{
 "cells": [
  {
   "cell_type": "markdown",
   "metadata": {},
   "source": [
    "## Ordered dictionaries"
   ]
  },
  {
   "cell_type": "code",
   "execution_count": 7,
   "metadata": {},
   "outputs": [
    {
     "name": "stdout",
     "output_type": "stream",
     "text": [
      "{'banana': 3, 'apple': 4, 'pear': 1, 'orange': 2}\n"
     ]
    }
   ],
   "source": [
    "from collections import OrderedDict\n",
    "\n",
    "raw_dict = {'banana': 3, 'apple':4, 'pear': 1, 'orange': 2}\n",
    "print(raw_dict)"
   ]
  },
  {
   "cell_type": "code",
   "execution_count": 8,
   "metadata": {},
   "outputs": [
    {
     "name": "stdout",
     "output_type": "stream",
     "text": [
      "OrderedDict([('apple', 4), ('banana', 3), ('orange', 2), ('pear', 1)])\n"
     ]
    }
   ],
   "source": [
    "ordered_dict = OrderedDict(sorted(d.items(), key=lambda t: t[0]))\n",
    "print(ordered_dict)"
   ]
  },
  {
   "cell_type": "markdown",
   "metadata": {},
   "source": [
    "## multiple context managers with one with statement"
   ]
  },
  {
   "cell_type": "code",
   "execution_count": 12,
   "metadata": {},
   "outputs": [
    {
     "name": "stdout",
     "output_type": "stream",
     "text": [
      "start manager first\n",
      "start manager second\n",
      "exit manager second\n",
      "exit manager first\n"
     ]
    }
   ],
   "source": [
    "class ContextManager(object):\n",
    "    def __init__(self, name):\n",
    "        self.name = name\n",
    "    \n",
    "    def __enter__(self):\n",
    "        print(\"start manager {}\".format(self.name))\n",
    "    \n",
    "    def __exit__(self, type, value, traceback):\n",
    "        print(\"exit manager {}\".format(self.name))\n",
    "\n",
    "        \n",
    "with ContextManager(\"first\") as inmanager, ContextManager(\"second\") as outmanager:\n",
    "    pass"
   ]
  },
  {
   "cell_type": "code",
   "execution_count": 14,
   "metadata": {},
   "outputs": [
    {
     "name": "stdout",
     "output_type": "stream",
     "text": [
      "start manager first\n",
      "start manager second\n",
      "exit manager second\n",
      "exit manager first\n"
     ]
    }
   ],
   "source": [
    "from contextlib import contextmanager\n",
    "\n",
    "\n",
    "@contextmanager\n",
    "def example_manager(name):\n",
    "    print(\"start manager {}\".format(name))\n",
    "    try:\n",
    "        yield\n",
    "    finally:\n",
    "        print(\"exit manager {}\".format(name))\n",
    "\n",
    "with example_manager(\"first\") as inmanager, example_manager(\"second\") as outmanager:\n",
    "    pass"
   ]
  },
  {
   "cell_type": "code",
   "execution_count": null,
   "metadata": {},
   "outputs": [],
   "source": []
  }
 ],
 "metadata": {
  "kernelspec": {
   "display_name": "Python 3",
   "language": "python",
   "name": "python3"
  },
  "language_info": {
   "codemirror_mode": {
    "name": "ipython",
    "version": 3
   },
   "file_extension": ".py",
   "mimetype": "text/x-python",
   "name": "python",
   "nbconvert_exporter": "python",
   "pygments_lexer": "ipython3",
   "version": "3.8.5"
  }
 },
 "nbformat": 4,
 "nbformat_minor": 4
}
